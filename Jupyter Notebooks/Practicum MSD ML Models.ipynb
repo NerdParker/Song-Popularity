{
 "cells": [
  {
   "cell_type": "code",
   "execution_count": 1,
   "metadata": {},
   "outputs": [],
   "source": [
    "# packages to store and manipulate data\n",
    "import numpy as np\n",
    "import pandas as pd\n",
    "\n",
    "# visualization packages\n",
    "import seaborn as sns\n",
    "import matplotlib\n",
    "import matplotlib.pyplot as plt\n",
    "\n",
    "# ml modeling packages\n",
    "import copy\n",
    "import xgboost as xgb\n",
    "from xgboost.sklearn import XGBRegressor\n",
    "from xgboost.sklearn import XGBClassifier\n",
    "\n",
    "from sklearn import preprocessing\n",
    "from sklearn import metrics\n",
    "from sklearn.metrics import roc_auc_score\n",
    "from sklearn.metrics import accuracy_score\n",
    "from sklearn.model_selection import train_test_split\n",
    "from sklearn.model_selection import cross_val_score, GridSearchCV\n",
    "from sklearn.model_selection import KFold\n",
    "from sklearn.linear_model import LogisticRegression\n",
    "from sklearn.neighbors import KNeighborsClassifier\n",
    "from sklearn.ensemble import RandomForestClassifier\n",
    "from sklearn.tree import DecisionTreeClassifier\n",
    "from sklearn import svm\n",
    "from sklearn.svm import SVC, LinearSVC"
   ]
  },
  {
   "cell_type": "code",
   "execution_count": 2,
   "metadata": {},
   "outputs": [
    {
     "data": {
      "text/html": [
       "<div>\n",
       "<style scoped>\n",
       "    .dataframe tbody tr th:only-of-type {\n",
       "        vertical-align: middle;\n",
       "    }\n",
       "\n",
       "    .dataframe tbody tr th {\n",
       "        vertical-align: top;\n",
       "    }\n",
       "\n",
       "    .dataframe thead th {\n",
       "        text-align: right;\n",
       "    }\n",
       "</style>\n",
       "<table border=\"1\" class=\"dataframe\">\n",
       "  <thead>\n",
       "    <tr style=\"text-align: right;\">\n",
       "      <th></th>\n",
       "      <th>artist_id</th>\n",
       "      <th>artist_latitude</th>\n",
       "      <th>artist_familiarity</th>\n",
       "      <th>artist_hotness</th>\n",
       "      <th>artist_location</th>\n",
       "      <th>artist_longitude</th>\n",
       "      <th>artist_name</th>\n",
       "      <th>duration</th>\n",
       "      <th>end_of_fade_in</th>\n",
       "      <th>key</th>\n",
       "      <th>...</th>\n",
       "      <th>mode_confidence</th>\n",
       "      <th>release</th>\n",
       "      <th>song_hotness</th>\n",
       "      <th>start_of_fade_out</th>\n",
       "      <th>tempo</th>\n",
       "      <th>time_signature</th>\n",
       "      <th>time_signature_confidence</th>\n",
       "      <th>title</th>\n",
       "      <th>year</th>\n",
       "      <th>bb_hotsong</th>\n",
       "    </tr>\n",
       "  </thead>\n",
       "  <tbody>\n",
       "    <tr>\n",
       "      <th>0</th>\n",
       "      <td>ARMQHX71187B9890D3</td>\n",
       "      <td>NaN</td>\n",
       "      <td>0.780462</td>\n",
       "      <td>0.574275</td>\n",
       "      <td>Atlanta, GA</td>\n",
       "      <td>NaN</td>\n",
       "      <td>Mastodon</td>\n",
       "      <td>280.21506</td>\n",
       "      <td>0.238</td>\n",
       "      <td>5</td>\n",
       "      <td>...</td>\n",
       "      <td>0.500</td>\n",
       "      <td>Call of the Mastodon</td>\n",
       "      <td>0.597641</td>\n",
       "      <td>275.528</td>\n",
       "      <td>173.205</td>\n",
       "      <td>5</td>\n",
       "      <td>0.120</td>\n",
       "      <td>Deep Sea Creature</td>\n",
       "      <td>2001</td>\n",
       "      <td>0</td>\n",
       "    </tr>\n",
       "    <tr>\n",
       "      <th>1</th>\n",
       "      <td>ARD7TVE1187B99BFB1</td>\n",
       "      <td>NaN</td>\n",
       "      <td>0.581794</td>\n",
       "      <td>0.401998</td>\n",
       "      <td>California - LA</td>\n",
       "      <td>NaN</td>\n",
       "      <td>Casual</td>\n",
       "      <td>218.93179</td>\n",
       "      <td>0.247</td>\n",
       "      <td>1</td>\n",
       "      <td>...</td>\n",
       "      <td>0.636</td>\n",
       "      <td>Fear Itself</td>\n",
       "      <td>0.602120</td>\n",
       "      <td>218.932</td>\n",
       "      <td>92.198</td>\n",
       "      <td>4</td>\n",
       "      <td>0.778</td>\n",
       "      <td>I Didn't Mean To</td>\n",
       "      <td>0</td>\n",
       "      <td>0</td>\n",
       "    </tr>\n",
       "    <tr>\n",
       "      <th>2</th>\n",
       "      <td>ARMJAGH1187FB546F3</td>\n",
       "      <td>35.14968</td>\n",
       "      <td>0.630630</td>\n",
       "      <td>0.417500</td>\n",
       "      <td>Memphis, TN</td>\n",
       "      <td>-90.04892</td>\n",
       "      <td>The Box Tops</td>\n",
       "      <td>148.03546</td>\n",
       "      <td>0.148</td>\n",
       "      <td>6</td>\n",
       "      <td>...</td>\n",
       "      <td>0.430</td>\n",
       "      <td>Dimensions</td>\n",
       "      <td>NaN</td>\n",
       "      <td>137.915</td>\n",
       "      <td>121.274</td>\n",
       "      <td>4</td>\n",
       "      <td>0.384</td>\n",
       "      <td>Soul Deep</td>\n",
       "      <td>1969</td>\n",
       "      <td>1</td>\n",
       "    </tr>\n",
       "    <tr>\n",
       "      <th>3</th>\n",
       "      <td>ARKRRTF1187B9984DA</td>\n",
       "      <td>NaN</td>\n",
       "      <td>0.487357</td>\n",
       "      <td>0.343428</td>\n",
       "      <td>NaN</td>\n",
       "      <td>NaN</td>\n",
       "      <td>Sonora Santanera</td>\n",
       "      <td>177.47546</td>\n",
       "      <td>0.282</td>\n",
       "      <td>8</td>\n",
       "      <td>...</td>\n",
       "      <td>0.565</td>\n",
       "      <td>Las Numero 1 De La Sonora Santanera</td>\n",
       "      <td>NaN</td>\n",
       "      <td>172.304</td>\n",
       "      <td>100.070</td>\n",
       "      <td>1</td>\n",
       "      <td>0.000</td>\n",
       "      <td>Amor De Cabaret</td>\n",
       "      <td>0</td>\n",
       "      <td>0</td>\n",
       "    </tr>\n",
       "    <tr>\n",
       "      <th>4</th>\n",
       "      <td>AR7G5I41187FB4CE6C</td>\n",
       "      <td>NaN</td>\n",
       "      <td>0.630382</td>\n",
       "      <td>0.454231</td>\n",
       "      <td>London, England</td>\n",
       "      <td>NaN</td>\n",
       "      <td>Adam Ant</td>\n",
       "      <td>233.40363</td>\n",
       "      <td>0.000</td>\n",
       "      <td>0</td>\n",
       "      <td>...</td>\n",
       "      <td>0.749</td>\n",
       "      <td>Friend Or Foe</td>\n",
       "      <td>NaN</td>\n",
       "      <td>217.124</td>\n",
       "      <td>119.293</td>\n",
       "      <td>4</td>\n",
       "      <td>0.000</td>\n",
       "      <td>Something Girls</td>\n",
       "      <td>1982</td>\n",
       "      <td>0</td>\n",
       "    </tr>\n",
       "  </tbody>\n",
       "</table>\n",
       "<p>5 rows × 23 columns</p>\n",
       "</div>"
      ],
      "text/plain": [
       "            artist_id  artist_latitude  artist_familiarity  artist_hotness  \\\n",
       "0  ARMQHX71187B9890D3              NaN            0.780462        0.574275   \n",
       "1  ARD7TVE1187B99BFB1              NaN            0.581794        0.401998   \n",
       "2  ARMJAGH1187FB546F3         35.14968            0.630630        0.417500   \n",
       "3  ARKRRTF1187B9984DA              NaN            0.487357        0.343428   \n",
       "4  AR7G5I41187FB4CE6C              NaN            0.630382        0.454231   \n",
       "\n",
       "   artist_location  artist_longitude       artist_name   duration  \\\n",
       "0      Atlanta, GA               NaN          Mastodon  280.21506   \n",
       "1  California - LA               NaN            Casual  218.93179   \n",
       "2      Memphis, TN         -90.04892      The Box Tops  148.03546   \n",
       "3              NaN               NaN  Sonora Santanera  177.47546   \n",
       "4  London, England               NaN          Adam Ant  233.40363   \n",
       "\n",
       "   end_of_fade_in  key  ...  mode_confidence  \\\n",
       "0           0.238    5  ...            0.500   \n",
       "1           0.247    1  ...            0.636   \n",
       "2           0.148    6  ...            0.430   \n",
       "3           0.282    8  ...            0.565   \n",
       "4           0.000    0  ...            0.749   \n",
       "\n",
       "                               release  song_hotness  start_of_fade_out  \\\n",
       "0                 Call of the Mastodon      0.597641            275.528   \n",
       "1                          Fear Itself      0.602120            218.932   \n",
       "2                           Dimensions           NaN            137.915   \n",
       "3  Las Numero 1 De La Sonora Santanera           NaN            172.304   \n",
       "4                        Friend Or Foe           NaN            217.124   \n",
       "\n",
       "     tempo  time_signature  time_signature_confidence              title  \\\n",
       "0  173.205               5                      0.120  Deep Sea Creature   \n",
       "1   92.198               4                      0.778   I Didn't Mean To   \n",
       "2  121.274               4                      0.384          Soul Deep   \n",
       "3  100.070               1                      0.000    Amor De Cabaret   \n",
       "4  119.293               4                      0.000    Something Girls   \n",
       "\n",
       "   year  bb_hotsong  \n",
       "0  2001           0  \n",
       "1     0           0  \n",
       "2  1969           1  \n",
       "3     0           0  \n",
       "4  1982           0  \n",
       "\n",
       "[5 rows x 23 columns]"
      ]
     },
     "execution_count": 2,
     "metadata": {},
     "output_type": "execute_result"
    }
   ],
   "source": [
    "# Import Dataset\n",
    "df = pd.read_csv('C:/Users/607791/Desktop/DS/Practicum/MSD20k_and_BB.csv')\n",
    "df.head()"
   ]
  },
  {
   "cell_type": "code",
   "execution_count": 3,
   "metadata": {},
   "outputs": [],
   "source": [
    "df_clean=df.drop(['artist_id'], axis=1)\n",
    "df_clean=df_clean.drop(['artist_latitude'], axis=1)\n",
    "df_clean=df_clean.drop(['artist_longitude'], axis=1)\n",
    "df_clean=df_clean.drop(['artist_name'], axis=1)\n",
    "df_clean=df_clean.drop(['artist_location'], axis=1)\n",
    "df_clean=df_clean.drop(['end_of_fade_in'], axis=1)\n",
    "df_clean=df_clean.drop(['start_of_fade_out'], axis=1)\n",
    "df_clean=df_clean.drop(['release'], axis=1)\n",
    "df_clean=df_clean.drop(['title'], axis=1)\n",
    "df_clean=df_clean.drop(['year'], axis=1)\n",
    "df_clean=df_clean.drop(['key_confidence'], axis=1)\n",
    "df_clean=df_clean.drop(['mode_confidence'], axis=1)\n",
    "df_clean=df_clean.drop(['time_signature_confidence'], axis=1)"
   ]
  },
  {
   "cell_type": "code",
   "execution_count": 4,
   "metadata": {},
   "outputs": [
    {
     "data": {
      "text/plain": [
       "(10001, 23)"
      ]
     },
     "execution_count": 4,
     "metadata": {},
     "output_type": "execute_result"
    }
   ],
   "source": [
    "df.shape"
   ]
  },
  {
   "cell_type": "code",
   "execution_count": 5,
   "metadata": {},
   "outputs": [
    {
     "data": {
      "text/plain": [
       "(5648, 10)"
      ]
     },
     "execution_count": 5,
     "metadata": {},
     "output_type": "execute_result"
    }
   ],
   "source": [
    "df_clean=df_clean.dropna()\n",
    "df_clean.shape"
   ]
  },
  {
   "cell_type": "code",
   "execution_count": 6,
   "metadata": {},
   "outputs": [
    {
     "data": {
      "text/html": [
       "<div>\n",
       "<style scoped>\n",
       "    .dataframe tbody tr th:only-of-type {\n",
       "        vertical-align: middle;\n",
       "    }\n",
       "\n",
       "    .dataframe tbody tr th {\n",
       "        vertical-align: top;\n",
       "    }\n",
       "\n",
       "    .dataframe thead th {\n",
       "        text-align: right;\n",
       "    }\n",
       "</style>\n",
       "<table border=\"1\" class=\"dataframe\">\n",
       "  <thead>\n",
       "    <tr style=\"text-align: right;\">\n",
       "      <th></th>\n",
       "      <th>artist_familiarity</th>\n",
       "      <th>artist_hotness</th>\n",
       "      <th>duration</th>\n",
       "      <th>key</th>\n",
       "      <th>loudness</th>\n",
       "      <th>mode</th>\n",
       "      <th>song_hotness</th>\n",
       "      <th>tempo</th>\n",
       "      <th>time_signature</th>\n",
       "      <th>bb_hotsong</th>\n",
       "    </tr>\n",
       "  </thead>\n",
       "  <tbody>\n",
       "    <tr>\n",
       "      <th>0</th>\n",
       "      <td>0.780462</td>\n",
       "      <td>0.574275</td>\n",
       "      <td>280.21506</td>\n",
       "      <td>5</td>\n",
       "      <td>-3.306</td>\n",
       "      <td>1</td>\n",
       "      <td>0.597641</td>\n",
       "      <td>173.205</td>\n",
       "      <td>5</td>\n",
       "      <td>0</td>\n",
       "    </tr>\n",
       "    <tr>\n",
       "      <th>1</th>\n",
       "      <td>0.581794</td>\n",
       "      <td>0.401998</td>\n",
       "      <td>218.93179</td>\n",
       "      <td>1</td>\n",
       "      <td>-11.197</td>\n",
       "      <td>0</td>\n",
       "      <td>0.602120</td>\n",
       "      <td>92.198</td>\n",
       "      <td>4</td>\n",
       "      <td>0</td>\n",
       "    </tr>\n",
       "    <tr>\n",
       "      <th>5</th>\n",
       "      <td>0.651046</td>\n",
       "      <td>0.401724</td>\n",
       "      <td>209.60608</td>\n",
       "      <td>2</td>\n",
       "      <td>-4.501</td>\n",
       "      <td>1</td>\n",
       "      <td>0.604501</td>\n",
       "      <td>129.738</td>\n",
       "      <td>4</td>\n",
       "      <td>0</td>\n",
       "    </tr>\n",
       "    <tr>\n",
       "      <th>9</th>\n",
       "      <td>0.426668</td>\n",
       "      <td>0.332276</td>\n",
       "      <td>269.81832</td>\n",
       "      <td>4</td>\n",
       "      <td>-13.496</td>\n",
       "      <td>1</td>\n",
       "      <td>0.265861</td>\n",
       "      <td>86.643</td>\n",
       "      <td>4</td>\n",
       "      <td>0</td>\n",
       "    </tr>\n",
       "    <tr>\n",
       "      <th>11</th>\n",
       "      <td>0.360031</td>\n",
       "      <td>0.296269</td>\n",
       "      <td>218.77506</td>\n",
       "      <td>5</td>\n",
       "      <td>-10.021</td>\n",
       "      <td>0</td>\n",
       "      <td>0.000000</td>\n",
       "      <td>146.765</td>\n",
       "      <td>1</td>\n",
       "      <td>0</td>\n",
       "    </tr>\n",
       "  </tbody>\n",
       "</table>\n",
       "</div>"
      ],
      "text/plain": [
       "    artist_familiarity  artist_hotness   duration  key  loudness  mode  \\\n",
       "0             0.780462        0.574275  280.21506    5    -3.306     1   \n",
       "1             0.581794        0.401998  218.93179    1   -11.197     0   \n",
       "5             0.651046        0.401724  209.60608    2    -4.501     1   \n",
       "9             0.426668        0.332276  269.81832    4   -13.496     1   \n",
       "11            0.360031        0.296269  218.77506    5   -10.021     0   \n",
       "\n",
       "    song_hotness    tempo  time_signature  bb_hotsong  \n",
       "0       0.597641  173.205               5           0  \n",
       "1       0.602120   92.198               4           0  \n",
       "5       0.604501  129.738               4           0  \n",
       "9       0.265861   86.643               4           0  \n",
       "11      0.000000  146.765               1           0  "
      ]
     },
     "execution_count": 6,
     "metadata": {},
     "output_type": "execute_result"
    }
   ],
   "source": [
    "df_clean.head()"
   ]
  },
  {
   "cell_type": "code",
   "execution_count": 7,
   "metadata": {},
   "outputs": [],
   "source": [
    "hotness = copy.deepcopy(df_clean.bb_hotsong)\n",
    "df_hot = df_clean.drop(\"bb_hotsong\", axis=1)"
   ]
  },
  {
   "cell_type": "code",
   "execution_count": 8,
   "metadata": {},
   "outputs": [
    {
     "name": "stdout",
     "output_type": "stream",
     "text": [
      "Prediction Accuracy: 96.0%\n"
     ]
    }
   ],
   "source": [
    "# training/test data, test prediction XGB accuracy\n",
    "x_train, x_test, y_train, y_test = train_test_split(df_hot, hotness, test_size=0.35, random_state=2)\n",
    "model = XGBClassifier()\n",
    "model.fit(x_train, y_train)\n",
    "\n",
    "y_predict = model.predict(x_test)\n",
    "accuracy = model.score(x_test, y_test)\n",
    "\n",
    "print(\"Prediction Accuracy: %.1f%%\" % (accuracy * 100.0))"
   ]
  },
  {
   "cell_type": "code",
   "execution_count": 9,
   "metadata": {},
   "outputs": [],
   "source": [
    "# cross validation for each model\n",
    "def modeling(model, x_train, y_train):\n",
    "    scores = cross_val_score(model, x_train, y_train, cv=10, scoring = \"roc_auc\")\n",
    "    print(\"Cross Validation Scores:\", scores)\n",
    "    print(\"Cross Validation Mean:\", scores.mean())\n",
    "    print(\"Cross Validation Standard Deviation:\", scores.std())\n",
    "    print(\"Model as Percentage: \", scores.mean()*100)\n",
    "    return scores.mean()"
   ]
  },
  {
   "cell_type": "code",
   "execution_count": 10,
   "metadata": {},
   "outputs": [
    {
     "name": "stderr",
     "output_type": "stream",
     "text": [
      "C:\\Users\\607791\\AppData\\Roaming\\Python\\Python37\\site-packages\\sklearn\\linear_model\\logistic.py:432: FutureWarning: Default solver will be changed to 'lbfgs' in 0.22. Specify a solver to silence this warning.\n",
      "  FutureWarning)\n",
      "C:\\Users\\607791\\AppData\\Roaming\\Python\\Python37\\site-packages\\sklearn\\linear_model\\logistic.py:432: FutureWarning: Default solver will be changed to 'lbfgs' in 0.22. Specify a solver to silence this warning.\n",
      "  FutureWarning)\n",
      "C:\\Users\\607791\\AppData\\Roaming\\Python\\Python37\\site-packages\\sklearn\\linear_model\\logistic.py:432: FutureWarning: Default solver will be changed to 'lbfgs' in 0.22. Specify a solver to silence this warning.\n",
      "  FutureWarning)\n",
      "C:\\Users\\607791\\AppData\\Roaming\\Python\\Python37\\site-packages\\sklearn\\linear_model\\logistic.py:432: FutureWarning: Default solver will be changed to 'lbfgs' in 0.22. Specify a solver to silence this warning.\n",
      "  FutureWarning)\n",
      "C:\\Users\\607791\\AppData\\Roaming\\Python\\Python37\\site-packages\\sklearn\\linear_model\\logistic.py:432: FutureWarning: Default solver will be changed to 'lbfgs' in 0.22. Specify a solver to silence this warning.\n",
      "  FutureWarning)\n",
      "C:\\Users\\607791\\AppData\\Roaming\\Python\\Python37\\site-packages\\sklearn\\linear_model\\logistic.py:432: FutureWarning: Default solver will be changed to 'lbfgs' in 0.22. Specify a solver to silence this warning.\n",
      "  FutureWarning)\n",
      "C:\\Users\\607791\\AppData\\Roaming\\Python\\Python37\\site-packages\\sklearn\\linear_model\\logistic.py:432: FutureWarning: Default solver will be changed to 'lbfgs' in 0.22. Specify a solver to silence this warning.\n",
      "  FutureWarning)\n",
      "C:\\Users\\607791\\AppData\\Roaming\\Python\\Python37\\site-packages\\sklearn\\linear_model\\logistic.py:432: FutureWarning: Default solver will be changed to 'lbfgs' in 0.22. Specify a solver to silence this warning.\n",
      "  FutureWarning)\n"
     ]
    },
    {
     "name": "stdout",
     "output_type": "stream",
     "text": [
      "Cross Validation Scores: [0.46857671 0.62307455 0.61899261 0.63709181 0.5767098  0.55275724\n",
      " 0.51994763 0.57763401 0.46983025 0.68117284]\n",
      "Cross Validation Mean: 0.5725787436388946\n",
      "Cross Validation Standard Deviation: 0.0672591336101417\n",
      "Model as Percentage:  57.257874363889464\n"
     ]
    },
    {
     "name": "stderr",
     "output_type": "stream",
     "text": [
      "C:\\Users\\607791\\AppData\\Roaming\\Python\\Python37\\site-packages\\sklearn\\linear_model\\logistic.py:432: FutureWarning: Default solver will be changed to 'lbfgs' in 0.22. Specify a solver to silence this warning.\n",
      "  FutureWarning)\n",
      "C:\\Users\\607791\\AppData\\Roaming\\Python\\Python37\\site-packages\\sklearn\\linear_model\\logistic.py:432: FutureWarning: Default solver will be changed to 'lbfgs' in 0.22. Specify a solver to silence this warning.\n",
      "  FutureWarning)\n",
      "C:\\Users\\607791\\AppData\\Roaming\\Python\\Python37\\site-packages\\sklearn\\linear_model\\logistic.py:432: FutureWarning: Default solver will be changed to 'lbfgs' in 0.22. Specify a solver to silence this warning.\n",
      "  FutureWarning)\n"
     ]
    }
   ],
   "source": [
    "#vlogistic regression classifier\n",
    "log_reg = LogisticRegression()\n",
    "log_reg.fit(df_hot, hotness)\n",
    "log_reg_res = modeling(log_reg, df_hot, hotness)"
   ]
  },
  {
   "cell_type": "code",
   "execution_count": 11,
   "metadata": {},
   "outputs": [
    {
     "name": "stdout",
     "output_type": "stream",
     "text": [
      "Cross Validation Scores: [0.53384935 0.56276956 0.59681146 0.57008626 0.42995225 0.43029883\n",
      " 0.54097351 0.60097043 0.44266975 0.47631173]\n",
      "Cross Validation Mean: 0.5184693126583145\n",
      "Cross Validation Standard Deviation: 0.06437846786303919\n",
      "Model as Percentage:  51.84693126583145\n"
     ]
    }
   ],
   "source": [
    "# knn classifier, best neighbors = 8\n",
    "k_near_neigh = KNeighborsClassifier(n_neighbors = 10)\n",
    "k_near_neigh.fit(df_hot, hotness)\n",
    "k_near_neigh_res = modeling(k_near_neigh, df_hot, hotness)"
   ]
  },
  {
   "cell_type": "code",
   "execution_count": 12,
   "metadata": {},
   "outputs": [
    {
     "name": "stdout",
     "output_type": "stream",
     "text": [
      "Cross Validation Scores: [0.44200555 0.57293592 0.48875539 0.5866451  0.5521411  0.55468269\n",
      " 0.61960875 0.45964264 0.57114198 0.55432099]\n",
      "Cross Validation Mean: 0.5401880091736838\n",
      "Cross Validation Standard Deviation: 0.054609403555114296\n",
      "Model as Percentage:  54.01880091736838\n"
     ]
    }
   ],
   "source": [
    "# xgboost classifier\n",
    "x_grad_boost = XGBClassifier(learning_rate =0.2, n_estimators=80, max_depth=6, min_child_weight=1, gamma=0, subsample=0.7,\n",
    "    colsample_bytree=0.7, objective= 'binary:logistic', nthread=4, scale_pos_weight=1, seed=12)\n",
    "x_grad_boost.fit(df_hot, hotness)\n",
    "x_grad_boost_res = modeling(x_grad_boost, df_hot, hotness)"
   ]
  },
  {
   "cell_type": "code",
   "execution_count": 13,
   "metadata": {},
   "outputs": [
    {
     "name": "stdout",
     "output_type": "stream",
     "text": [
      "Cross Validation Scores: [0.43037585 0.61856901 0.51209181 0.5526032  0.55048521 0.54513247\n",
      " 0.59885243 0.61598891 0.58923611 0.47426698]\n",
      "Cross Validation Mean: 0.5487601977362451\n",
      "Cross Validation Standard Deviation: 0.058719734128873824\n",
      "Model as Percentage:  54.876019773624506\n"
     ]
    }
   ],
   "source": [
    "# random forest classifier\n",
    "random_forest = RandomForestClassifier(n_estimators=100, oob_score = True)\n",
    "random_forest.fit(df_hot, hotness)\n",
    "random_forest_res = modeling(random_forest, df_hot, hotness)"
   ]
  },
  {
   "cell_type": "code",
   "execution_count": 14,
   "metadata": {},
   "outputs": [
    {
     "name": "stdout",
     "output_type": "stream",
     "text": [
      "Cross Validation Scores: [0.4995764  0.51856131 0.51394023 0.4995764  0.51948552 0.49865219\n",
      " 0.54124307 0.50747073 0.51574074 0.49212963]\n",
      "Cross Validation Mean: 0.5106376223728349\n",
      "Cross Validation Standard Deviation: 0.013622185204860682\n",
      "Model as Percentage:  51.06376223728349\n"
     ]
    }
   ],
   "source": [
    "# decision tree classifier\n",
    "decision_tree = DecisionTreeClassifier()\n",
    "decision_tree.fit(df_hot, hotness)\n",
    "decision_tree_res = modeling(decision_tree, df_hot, hotness)"
   ]
  },
  {
   "cell_type": "code",
   "execution_count": 15,
   "metadata": {},
   "outputs": [
    {
     "name": "stderr",
     "output_type": "stream",
     "text": [
      "C:\\Users\\607791\\AppData\\Roaming\\Python\\Python37\\site-packages\\sklearn\\svm\\base.py:929: ConvergenceWarning: Liblinear failed to converge, increase the number of iterations.\n",
      "  \"the number of iterations.\", ConvergenceWarning)\n",
      "C:\\Users\\607791\\AppData\\Roaming\\Python\\Python37\\site-packages\\sklearn\\svm\\base.py:929: ConvergenceWarning: Liblinear failed to converge, increase the number of iterations.\n",
      "  \"the number of iterations.\", ConvergenceWarning)\n",
      "C:\\Users\\607791\\AppData\\Roaming\\Python\\Python37\\site-packages\\sklearn\\svm\\base.py:929: ConvergenceWarning: Liblinear failed to converge, increase the number of iterations.\n",
      "  \"the number of iterations.\", ConvergenceWarning)\n",
      "C:\\Users\\607791\\AppData\\Roaming\\Python\\Python37\\site-packages\\sklearn\\svm\\base.py:929: ConvergenceWarning: Liblinear failed to converge, increase the number of iterations.\n",
      "  \"the number of iterations.\", ConvergenceWarning)\n",
      "C:\\Users\\607791\\AppData\\Roaming\\Python\\Python37\\site-packages\\sklearn\\svm\\base.py:929: ConvergenceWarning: Liblinear failed to converge, increase the number of iterations.\n",
      "  \"the number of iterations.\", ConvergenceWarning)\n",
      "C:\\Users\\607791\\AppData\\Roaming\\Python\\Python37\\site-packages\\sklearn\\svm\\base.py:929: ConvergenceWarning: Liblinear failed to converge, increase the number of iterations.\n",
      "  \"the number of iterations.\", ConvergenceWarning)\n",
      "C:\\Users\\607791\\AppData\\Roaming\\Python\\Python37\\site-packages\\sklearn\\svm\\base.py:929: ConvergenceWarning: Liblinear failed to converge, increase the number of iterations.\n",
      "  \"the number of iterations.\", ConvergenceWarning)\n",
      "C:\\Users\\607791\\AppData\\Roaming\\Python\\Python37\\site-packages\\sklearn\\svm\\base.py:929: ConvergenceWarning: Liblinear failed to converge, increase the number of iterations.\n",
      "  \"the number of iterations.\", ConvergenceWarning)\n",
      "C:\\Users\\607791\\AppData\\Roaming\\Python\\Python37\\site-packages\\sklearn\\svm\\base.py:929: ConvergenceWarning: Liblinear failed to converge, increase the number of iterations.\n",
      "  \"the number of iterations.\", ConvergenceWarning)\n",
      "C:\\Users\\607791\\AppData\\Roaming\\Python\\Python37\\site-packages\\sklearn\\svm\\base.py:929: ConvergenceWarning: Liblinear failed to converge, increase the number of iterations.\n",
      "  \"the number of iterations.\", ConvergenceWarning)\n"
     ]
    },
    {
     "name": "stdout",
     "output_type": "stream",
     "text": [
      "Cross Validation Scores: [0.4762785  0.50123229 0.47989834 0.52487677 0.53943315 0.46233826\n",
      " 0.53165434 0.5801756  0.43433642 0.43819444]\n",
      "Cross Validation Mean: 0.49684181100385655\n",
      "Cross Validation Standard Deviation: 0.04474656845643524\n",
      "Model as Percentage:  49.68418110038566\n"
     ]
    },
    {
     "name": "stderr",
     "output_type": "stream",
     "text": [
      "C:\\Users\\607791\\AppData\\Roaming\\Python\\Python37\\site-packages\\sklearn\\svm\\base.py:929: ConvergenceWarning: Liblinear failed to converge, increase the number of iterations.\n",
      "  \"the number of iterations.\", ConvergenceWarning)\n"
     ]
    }
   ],
   "source": [
    "# linear SVC classifier\n",
    "linear_svc = LinearSVC()\n",
    "linear_svc.fit(df_hot, hotness)\n",
    "linear_svc_res = modeling(linear_svc, df_hot, hotness)"
   ]
  },
  {
   "cell_type": "code",
   "execution_count": 16,
   "metadata": {},
   "outputs": [
    {
     "data": {
      "text/html": [
       "<div>\n",
       "<style scoped>\n",
       "    .dataframe tbody tr th:only-of-type {\n",
       "        vertical-align: middle;\n",
       "    }\n",
       "\n",
       "    .dataframe tbody tr th {\n",
       "        vertical-align: top;\n",
       "    }\n",
       "\n",
       "    .dataframe thead th {\n",
       "        text-align: right;\n",
       "    }\n",
       "</style>\n",
       "<table border=\"1\" class=\"dataframe\">\n",
       "  <thead>\n",
       "    <tr style=\"text-align: right;\">\n",
       "      <th></th>\n",
       "      <th>Model</th>\n",
       "    </tr>\n",
       "    <tr>\n",
       "      <th>Score</th>\n",
       "      <th></th>\n",
       "    </tr>\n",
       "  </thead>\n",
       "  <tbody>\n",
       "    <tr>\n",
       "      <th>0.572579</th>\n",
       "      <td>Logistic Regression</td>\n",
       "    </tr>\n",
       "    <tr>\n",
       "      <th>0.548760</th>\n",
       "      <td>Random Forest</td>\n",
       "    </tr>\n",
       "    <tr>\n",
       "      <th>0.540188</th>\n",
       "      <td>Extreme Gradient Boosting</td>\n",
       "    </tr>\n",
       "    <tr>\n",
       "      <th>0.518469</th>\n",
       "      <td>K-Nearest Neighbors</td>\n",
       "    </tr>\n",
       "    <tr>\n",
       "      <th>0.510638</th>\n",
       "      <td>Decision Tree</td>\n",
       "    </tr>\n",
       "    <tr>\n",
       "      <th>0.496842</th>\n",
       "      <td>Linear SVC</td>\n",
       "    </tr>\n",
       "  </tbody>\n",
       "</table>\n",
       "</div>"
      ],
      "text/plain": [
       "                              Model\n",
       "Score                              \n",
       "0.572579        Logistic Regression\n",
       "0.548760              Random Forest\n",
       "0.540188  Extreme Gradient Boosting\n",
       "0.518469        K-Nearest Neighbors\n",
       "0.510638              Decision Tree\n",
       "0.496842                 Linear SVC"
      ]
     },
     "execution_count": 16,
     "metadata": {},
     "output_type": "execute_result"
    }
   ],
   "source": [
    "# compare scores\n",
    "comparison = pd.DataFrame({'Model': ['Logistic Regression','K-Nearest Neighbors','Extreme Gradient Boosting',\n",
    "            'Random Forest','Decision Tree','Linear SVC'],\n",
    "    'Score': [log_reg_res,k_near_neigh_res,x_grad_boost_res,random_forest_res,decision_tree_res,linear_svc_res]})\n",
    "df_comparison = comparison.sort_values(by='Score', ascending=False)\n",
    "df_comparison = df_comparison.set_index('Score')\n",
    "df_comparison"
   ]
  },
  {
   "cell_type": "code",
   "execution_count": null,
   "metadata": {},
   "outputs": [],
   "source": []
  }
 ],
 "metadata": {
  "kernelspec": {
   "display_name": "Python 3",
   "language": "python",
   "name": "python3"
  },
  "language_info": {
   "codemirror_mode": {
    "name": "ipython",
    "version": 3
   },
   "file_extension": ".py",
   "mimetype": "text/x-python",
   "name": "python",
   "nbconvert_exporter": "python",
   "pygments_lexer": "ipython3",
   "version": "3.7.3"
  }
 },
 "nbformat": 4,
 "nbformat_minor": 2
}
